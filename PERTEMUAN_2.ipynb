{
  "nbformat": 4,
  "nbformat_minor": 0,
  "metadata": {
    "colab": {
      "provenance": [],
      "authorship_tag": "ABX9TyONld5hD8M33zUjmoi42oj1",
      "include_colab_link": true
    },
    "kernelspec": {
      "name": "python3",
      "display_name": "Python 3"
    },
    "language_info": {
      "name": "python"
    }
  },
  "cells": [
    {
      "cell_type": "markdown",
      "metadata": {
        "id": "view-in-github",
        "colab_type": "text"
      },
      "source": [
        "<a href=\"https://colab.research.google.com/github/Dimas270305/PEMOGRAMAN-DASAR/blob/main/PERTEMUAN_2.ipynb\" target=\"_parent\"><img src=\"https://colab.research.google.com/assets/colab-badge.svg\" alt=\"Open In Colab\"/></a>"
      ]
    },
    {
      "cell_type": "code",
      "execution_count": null,
      "metadata": {
        "id": "st0FbcE7zQ0L",
        "colab": {
          "base_uri": "https://localhost:8080/"
        },
        "outputId": "3ad05fe3-51ff-4292-cf0a-006633947623"
      },
      "outputs": [
        {
          "output_type": "stream",
          "name": "stdout",
          "text": [
            "23\n",
            "43\n",
            "51\n",
            "34\n",
            "[23, 43, 51, 34]\n"
          ]
        }
      ],
      "source": [
        "# deklarasi variable list\n",
        "numbers = [23, 43, 15, 34]\n",
        "# cara mengakses elemen dalam variable list\n",
        "numbers[0]  #23\n",
        "numbers[1]  #43\n",
        "numbers[2]  #15\n",
        "numbers[3]  #34\n",
        "#cara mengubah nilai elemen dalam variable list\n",
        "numbers[2]  =51\n",
        "numbers[2]  #51\n",
        "\n",
        "\n",
        "print(numbers[0])\n",
        "print(numbers[1])\n",
        "print(numbers[2])\n",
        "print(numbers[3])\n",
        "print(numbers)"
      ]
    },
    {
      "cell_type": "code",
      "source": [
        "# deklarasi variable list numbers\n",
        "numbers = [1, 2, 3]\n",
        "\n",
        "print(numbers)\n",
        "\n",
        "# menambahkan elemen di indeks-4\n",
        "numbers.insert(4, 5)    #[1, 2, 3, 5]\n",
        "\n",
        "print(numbers)\n",
        "\n",
        "#mengubah elemen di indeks-4\n",
        "numbers[3] = 4          #[1, 2, 3, 4]\n",
        "\n",
        "print(numbers)\n",
        "\n",
        "#menghapus elemen di indeks-2\n",
        "numbers.pop(2)          #[1, 2, 4]\n",
        "\n",
        "print(numbers)\n"
      ],
      "metadata": {
        "colab": {
          "base_uri": "https://localhost:8080/"
        },
        "id": "egoALItiZZvH",
        "outputId": "b9a2daa0-acf6-4eae-90e1-8d2b453e7a78"
      },
      "execution_count": null,
      "outputs": [
        {
          "output_type": "stream",
          "name": "stdout",
          "text": [
            "[1, 2, 3]\n",
            "[1, 2, 3, 5]\n",
            "[1, 2, 3, 4]\n",
            "[1, 2, 4]\n"
          ]
        }
      ]
    },
    {
      "cell_type": "code",
      "source": [
        "#TODO\n",
        "#Membuat variable sesuai intruksi\n",
        "firstName = \"Muhammad Dimas\"\n",
        "lastName  = \"Prasetyo\"\n",
        "age       = 20\n",
        "isMarried = False\n",
        "\n",
        "#Menamampilkan hasil dengan fungsi print\n",
        "print(\"Nama Depan :\", firstName)\n",
        "print(\"Nama Belakang :\", lastName)\n",
        "print(\"Umur :\", age)\n",
        "print(\"Status Menikah :\", isMarried)\n"
      ],
      "metadata": {
        "id": "NVoUUVu8cmBt",
        "colab": {
          "base_uri": "https://localhost:8080/"
        },
        "outputId": "366bb2a9-c693-4dad-9ea4-844274f513b9"
      },
      "execution_count": null,
      "outputs": [
        {
          "output_type": "stream",
          "name": "stdout",
          "text": [
            "Nama Depan : Muhammad Dimas\n",
            "Nama Belakang : Prasetyo\n",
            "Umur : 20\n",
            "Status Menikah : False\n"
          ]
        }
      ]
    },
    {
      "cell_type": "code",
      "source": [
        "#TODO\n",
        "datadiri = {'first name':'Dimas','age':20,'Is married':False}\n",
        "\n",
        "print(datadiri)"
      ],
      "metadata": {
        "colab": {
          "base_uri": "https://localhost:8080/"
        },
        "id": "tjbNaXno2wv_",
        "outputId": "94a86b79-6148-47f9-d7c8-a39df8283f43"
      },
      "execution_count": null,
      "outputs": [
        {
          "output_type": "stream",
          "name": "stdout",
          "text": [
            "{'first name': 'Dimas', 'age': 20, 'Is married': False}\n"
          ]
        }
      ]
    },
    {
      "cell_type": "code",
      "source": [
        "#TODO\n",
        "# Membuat variable inspeksi list yang menyimpan daftar inspeksi\n",
        "inspeksi = [\n",
        "    \"Pemahaman terhadap rencana dan desain\",\n",
        "    \"kualitas konstruksi\",\n",
        "    \"keselamtan kerja\",\n",
        "    \"kooordinasi dengan pemilik proyek\",\n",
        "    \"pengawasan pekerjaan\",\n",
        "    \"ketersediaan alat dan bahan\"\n",
        "]\n",
        "print(\"Daftar Inspeksi Proyek:\")\n",
        "for item in inspeksi:\n",
        "  print(f\"-{item}\")"
      ],
      "metadata": {
        "colab": {
          "base_uri": "https://localhost:8080/"
        },
        "id": "M1kpJ_Px3yNo",
        "outputId": "5049a61c-a773-4ed1-840b-14301a169b45"
      },
      "execution_count": null,
      "outputs": [
        {
          "output_type": "stream",
          "name": "stdout",
          "text": [
            "Daftar Inspeksi Proyek:\n",
            "-Pemahaman terhadap rencana dan desain\n",
            "-kualitas konstruksi\n",
            "-keselamtan kerja\n",
            "-kooordinasi dengan pemilik proyek\n",
            "-pengawasan pekerjaan\n",
            "-ketersediaan alat dan bahan\n"
          ]
        }
      ]
    },
    {
      "cell_type": "code",
      "source": [
        "# Membuat dictionary untuk waktu datang\n",
        "startTime = {\n",
        "    \"HH\": 9,\n",
        "    \"mm\": 55,\n",
        "    \"ss\": 56\n",
        "}\n",
        "\n",
        "# Membuat dictionary untuk waktu pulang\n",
        "endTime = {\n",
        "    \"HH\": 17,\n",
        "    \"mm\": 30,\n",
        "    \"ss\": 40\n",
        "}\n",
        "\n",
        "print(\"Waktu Datang (startTime):\", startTime)\n",
        "print(\"Waktu Pulang (endTime):\", endTime)\n"
      ],
      "metadata": {
        "colab": {
          "base_uri": "https://localhost:8080/"
        },
        "id": "h9i8oB8u7l4f",
        "outputId": "6b994f35-bfbe-4ffb-f9ec-7d805896b795"
      },
      "execution_count": null,
      "outputs": [
        {
          "output_type": "stream",
          "name": "stdout",
          "text": [
            "Waktu Datang (startTime): {'HH': 9, 'mm': 55, 'ss': 56}\n",
            "Waktu Pulang (endTime): {'HH': 17, 'mm': 30, 'ss': 40}\n"
          ]
        }
      ]
    },
    {
      "cell_type": "code",
      "source": [
        "# Data Awal\n",
        "katalog_A = {\"tv\",\"kulkas\",\"ac\",\"radio\"}\n",
        "katalog_B = {\"kulkas\",\"radio\",\"tv\",\"ac\"}\n",
        "produk_diskon = (\"laptop\",\"tv\",\"ac\")\n",
        "\n",
        "# 1. Gabungkan katalog A dan B\n",
        "katalog_lengkap = katalog_A.union(katalog_B)\n",
        "print(\"katalog lengkap:\", katalog_lengkap)\n",
        "\n",
        "# 2. cari produk yang ada di katalog_lengkap dan juga sedang diskon\n",
        "produk_promo_aktif = katalog_lengkap.intersection(produk_diskon)\n",
        "print(\"produk promo aktif:\", produk_promo_aktif)\n"
      ],
      "metadata": {
        "id": "NYy4EQJz9ct2",
        "colab": {
          "base_uri": "https://localhost:8080/"
        },
        "outputId": "57501192-6965-4cd2-b6af-fc501b6c2e4f"
      },
      "execution_count": 1,
      "outputs": [
        {
          "output_type": "stream",
          "name": "stdout",
          "text": [
            "katalog lengkap: {'tv', 'kulkas', 'ac', 'radio'}\n",
            "produk promo aktif: {'ac', 'tv'}\n"
          ]
        }
      ]
    }
  ]
}