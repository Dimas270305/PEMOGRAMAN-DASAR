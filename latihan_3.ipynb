{
  "nbformat": 4,
  "nbformat_minor": 0,
  "metadata": {
    "colab": {
      "provenance": [],
      "authorship_tag": "ABX9TyMdN9K7+QAI1uSSTGBDdHs8",
      "include_colab_link": true
    },
    "kernelspec": {
      "name": "python3",
      "display_name": "Python 3"
    },
    "language_info": {
      "name": "python"
    }
  },
  "cells": [
    {
      "cell_type": "markdown",
      "metadata": {
        "id": "view-in-github",
        "colab_type": "text"
      },
      "source": [
        "<a href=\"https://colab.research.google.com/github/Dimas270305/PEMOGRAMAN-DASAR/blob/main/latihan_3.ipynb\" target=\"_parent\"><img src=\"https://colab.research.google.com/assets/colab-badge.svg\" alt=\"Open In Colab\"/></a>"
      ]
    },
    {
      "cell_type": "code",
      "execution_count": 1,
      "metadata": {
        "colab": {
          "base_uri": "https://localhost:8080/"
        },
        "id": "QlWSpEsyeFFN",
        "outputId": "e7a9b8a9-476f-4731-cc9c-c7e5edcb92fe"
      },
      "outputs": [
        {
          "output_type": "stream",
          "name": "stdout",
          "text": [
            "Masukkan tahun : 2005\n",
            "Apakah tahun 2005 kabisat? False\n"
          ]
        }
      ],
      "source": [
        "#Menentukan Tahun Kabisat\n",
        "year = int(input(\"Masukkan tahun : \"))\n",
        "\n",
        "is_leap_year = (year % 4 == 0 and year % 100 != 0) or (year % 400 == 0)\n",
        "print (f\"Apakah tahun {year} kabisat? {is_leap_year}\")"
      ]
    },
    {
      "cell_type": "code",
      "source": [
        "#Menghitung Indeks Massa Tubuh (IMT)\n",
        "print (\"Kalkulator Indeks Massa Tubuh\")\n",
        "\n",
        "berat = float(input(\"Masukkan berat badan (Kg): \"))\n",
        "tinggi_badan = float(input(\"Masukkan tinggi badan (M): \"))\n",
        "imt = berat // (tinggi_badan ** 2)\n",
        "\n",
        "print (f\"Indeks Massa Tubuh (IMT) anda adalah : {imt}\")"
      ],
      "metadata": {
        "colab": {
          "base_uri": "https://localhost:8080/"
        },
        "id": "0ya1u_4weZSd",
        "outputId": "4a3afc31-7995-4bc3-a334-82b3c005312e"
      },
      "execution_count": 3,
      "outputs": [
        {
          "output_type": "stream",
          "name": "stdout",
          "text": [
            "Kalkulator Indeks Massa Tubuh\n",
            "Masukkan berat badan (Kg): 56\n",
            "Masukkan tinggi badan (M): 1.70\n",
            "Indeks Massa Tubuh (IMT) anda adalah : 19.0\n"
          ]
        }
      ]
    }
  ]
}