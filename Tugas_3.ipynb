{
  "nbformat": 4,
  "nbformat_minor": 0,
  "metadata": {
    "colab": {
      "provenance": [],
      "authorship_tag": "ABX9TyPHaHkBTXVi9//ZZppevIFG",
      "include_colab_link": true
    },
    "kernelspec": {
      "name": "python3",
      "display_name": "Python 3"
    },
    "language_info": {
      "name": "python"
    }
  },
  "cells": [
    {
      "cell_type": "markdown",
      "metadata": {
        "id": "view-in-github",
        "colab_type": "text"
      },
      "source": [
        "<a href=\"https://colab.research.google.com/github/Dimas270305/PEMOGRAMAN-DASAR/blob/main/Tugas_3.ipynb\" target=\"_parent\"><img src=\"https://colab.research.google.com/assets/colab-badge.svg\" alt=\"Open In Colab\"/></a>"
      ]
    },
    {
      "cell_type": "code",
      "source": [
        "#Program Kasir Sederhana\n",
        "\n",
        "subtotal_discount = 100000\n",
        "ppn_rate = 0.11\n",
        "discount_rate = 0.15\n",
        "subtotal = float(input(f\"Masukkan jumlah total belanja : Rp.\"))\n",
        "member = str(input(\"Apakah customer mempunyai member? (ketik 'ya' atau 'tidak') : \"))\n",
        "status = (member == 'ya')\n",
        "berhak_diskon = status and (subtotal >= subtotal_discount)\n",
        "if berhak_diskon:\n",
        "  jumlah_diskon = subtotal * discount_rate\n",
        "else :\n",
        "  jumlah_diskon = 0.0\n",
        "\n",
        "harga_setelah_diskon = subtotal - jumlah_diskon\n",
        "jumlah_ppn = harga_setelah_diskon * ppn_rate\n",
        "total_akhir = harga_setelah_diskon + jumlah_ppn\n",
        "\n",
        "print (f\"Total Belanja            = Rp.{subtotal:,.2f}\")\n",
        "print (f\"Status member            = {status}\")\n",
        "print (f\"Berhak diskon 15%        = {berhak_diskon}\")\n",
        "print (f\"Jumlah diskon            = Rp.{jumlah_diskon:,.2f}\")\n",
        "print (f\"Harga setelah diskon     = Rp.{harga_setelah_diskon:,.2f}\")\n",
        "print (\"*\")\n",
        "print (f\"PPN 11%                  = Rp.{jumlah_ppn:,.2f}\")\n",
        "print (f\"Total yang harus dibayar = Rp.{total_akhir:,.2f}\")"
      ],
      "metadata": {
        "id": "eelU0O2bfhLx",
        "colab": {
          "base_uri": "https://localhost:8080/"
        },
        "outputId": "35ece7aa-2e71-4eb5-8975-f61065f96827"
      },
      "execution_count": 1,
      "outputs": [
        {
          "output_type": "stream",
          "name": "stdout",
          "text": [
            "Masukkan jumlah total belanja : Rp.550000\n",
            "Apakah customer mempunyai member? (ketik 'ya' atau 'tidak') : tidak\n",
            "Total Belanja            = Rp.550,000.00\n",
            "Status member            = False\n",
            "Berhak diskon 15%        = False\n",
            "Jumlah diskon            = Rp.0.00\n",
            "Harga setelah diskon     = Rp.550,000.00\n",
            "*\n",
            "PPN 11%                  = Rp.60,500.00\n",
            "Total yang harus dibayar = Rp.610,500.00\n"
          ]
        }
      ]
    }
  ]
}