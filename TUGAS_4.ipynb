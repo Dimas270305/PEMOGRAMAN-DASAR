{
  "nbformat": 4,
  "nbformat_minor": 0,
  "metadata": {
    "colab": {
      "provenance": [],
      "authorship_tag": "ABX9TyNRCA6tuEeLpjyxEiCeW69t",
      "include_colab_link": true
    },
    "kernelspec": {
      "name": "python3",
      "display_name": "Python 3"
    },
    "language_info": {
      "name": "python"
    }
  },
  "cells": [
    {
      "cell_type": "markdown",
      "metadata": {
        "id": "view-in-github",
        "colab_type": "text"
      },
      "source": [
        "<a href=\"https://colab.research.google.com/github/Dimas270305/PEMOGRAMAN-DASAR/blob/main/TUGAS_4.ipynb\" target=\"_parent\"><img src=\"https://colab.research.google.com/assets/colab-badge.svg\" alt=\"Open In Colab\"/></a>"
      ]
    },
    {
      "cell_type": "code",
      "execution_count": 1,
      "metadata": {
        "colab": {
          "base_uri": "https://localhost:8080/"
        },
        "id": "FgTPa0TQ9mim",
        "outputId": "c273a7c7-3ef2-40bf-f18e-4b7587b1f1ed"
      },
      "outputs": [
        {
          "output_type": "stream",
          "name": "stdout",
          "text": [
            "******************************\n",
            "SELAMAT DATANG DI KAFE GEMINI\n",
            "******************************\n",
            "Menu Makanan & Minuman:\n",
            "1. Kopi Hitam    - Rp 12.000\n",
            "2. Teh Manis     - Rp  8.000\n",
            "3. Roti Bakar    - Rp 15.000\n",
            "4. Mie Instan    - Rp 10.000\n",
            "******************************\n",
            "Silakan masukkan nomor pilihan Anda (1-4): 3\n",
            "Anda memesan: Roti Bakar dengan harga Rp 15,000\n",
            "******************************\n",
            "Masukkan jumlah uang Anda: Rp 50000\n",
            "Diskon Anda: 30%\n",
            "Total setelah diskon: Rp 10,500.0\n",
            "\n",
            "--- Struk Pembayaran ---\n",
            "Pesanan Anda   : Roti Bakar\n",
            "Total Bayar    : Rp 10,500.0\n",
            "Uang Dibayar   : Rp 50,000\n",
            "Kembalian      : Rp 39,500.0\n",
            "\n",
            "Terima kasih telah berbelanja di Kafe Gemini!\n"
          ]
        }
      ],
      "source": [
        "print(\"*\" * 30)\n",
        "print(\"SELAMAT DATANG DI KAFE GEMINI\")\n",
        "print(\"*\" * 30)\n",
        "print(\"Menu Makanan & Minuman:\")\n",
        "print(\"1. Kopi Hitam    - Rp 12.000\")\n",
        "print(\"2. Teh Manis     - Rp  8.000\")\n",
        "print(\"3. Roti Bakar    - Rp 15.000\")\n",
        "print(\"4. Mie Instan    - Rp 10.000\")\n",
        "print(\"*\" * 30)\n",
        "\n",
        "pilihan_str = input(\"Silakan masukkan nomor pilihan Anda (1-4): \")\n",
        "pilihan = int(pilihan_str)\n",
        "nama_pesanan = \"\"\n",
        "harga = 0\n",
        "\n",
        "if pilihan == 1:\n",
        "    nama_pesanan = \"Kopi Hitam\"\n",
        "    harga = 12000\n",
        "elif pilihan == 2:\n",
        "    nama_pesanan = \"Teh Manis\"\n",
        "    harga = 8000\n",
        "elif pilihan == 3:\n",
        "    nama_pesanan = \"Roti Bakar\"\n",
        "    harga = 15000\n",
        "elif pilihan == 4:\n",
        "    nama_pesanan = \"Mie Instan\"\n",
        "    harga = 10000\n",
        "else:\n",
        "    print(\"Maaf, pilihan menu tidak valid.\")\n",
        "    exit()\n",
        "\n",
        "print(f\"Anda memesan: {nama_pesanan} dengan harga Rp {harga:,}\")\n",
        "\n",
        "print(\"*\" * 30)\n",
        "uang_dibayar_str = input(\"Masukkan jumlah uang Anda: Rp \")\n",
        "uang_dibayar = int(uang_dibayar_str)\n",
        "\n",
        "# --- Bagian Tambahan: Diskon Berdasarkan Total Belanja ---\n",
        "if harga >= 50000:\n",
        "    diskon = 0.70   # 70%\n",
        "elif harga >= 30000:\n",
        "    diskon = 0.50   # 50%\n",
        "elif harga >= 15000:\n",
        "    diskon = 0.30   # 30%\n",
        "else:\n",
        "    diskon = 0      # Tidak ada diskon\n",
        "\n",
        "potongan = harga * diskon\n",
        "total_bayar = harga - potongan\n",
        "\n",
        "print(f\"Diskon Anda: {diskon * 100:.0f}%\")\n",
        "print(f\"Total setelah diskon: Rp {total_bayar:,}\")\n",
        "\n",
        "# --- Proses Pembayaran ---\n",
        "if uang_dibayar >= total_bayar:\n",
        "    kembalian = uang_dibayar - total_bayar\n",
        "    print(\"\\n--- Struk Pembayaran ---\")\n",
        "    print(f\"Pesanan Anda   : {nama_pesanan}\")\n",
        "    print(f\"Total Bayar    : Rp {total_bayar:,}\")\n",
        "    print(f\"Uang Dibayar   : Rp {uang_dibayar:,}\")\n",
        "    print(f\"Kembalian      : Rp {kembalian:,}\")\n",
        "    print(\"\\nTerima kasih telah berbelanja di Kafe Gemini!\")\n",
        "else:\n",
        "    kekurangan = total_bayar - uang_dibayar\n",
        "    print(f\"Maaf, uang Anda kurang sebesar Rp {kekurangan:,}\")\n"
      ]
    }
  ]
}