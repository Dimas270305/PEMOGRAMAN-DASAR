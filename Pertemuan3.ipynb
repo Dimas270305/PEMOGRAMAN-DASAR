{
  "nbformat": 4,
  "nbformat_minor": 0,
  "metadata": {
    "colab": {
      "provenance": [],
      "authorship_tag": "ABX9TyPuowKvsBbdmBNOetrnoM2U",
      "include_colab_link": true
    },
    "kernelspec": {
      "name": "python3",
      "display_name": "Python 3"
    },
    "language_info": {
      "name": "python"
    }
  },
  "cells": [
    {
      "cell_type": "markdown",
      "metadata": {
        "id": "view-in-github",
        "colab_type": "text"
      },
      "source": [
        "<a href=\"https://colab.research.google.com/github/Dimas270305/PEMOGRAMAN-DASAR/blob/main/Pertemuan3.ipynb\" target=\"_parent\"><img src=\"https://colab.research.google.com/assets/colab-badge.svg\" alt=\"Open In Colab\"/></a>"
      ]
    },
    {
      "cell_type": "code",
      "execution_count": 1,
      "metadata": {
        "colab": {
          "base_uri": "https://localhost:8080/"
        },
        "id": "nsiAvCmtbvnA",
        "outputId": "cb7f22c5-4ae3-497a-f7cb-4a34109298e4"
      },
      "outputs": [
        {
          "name": "stdout",
          "output_type": "stream",
          "text": [
            "Siapa nama pelanggan? :Dimas\n",
            "Berapa banyak porsi yang di pesan? :2.5\n"
          ]
        }
      ],
      "source": [
        "nama = str(input(\"Siapa nama pelanggan? :\"))\n",
        "total = float(input(\"Berapa banyak porsi yang di pesan? :\"))"
      ]
    },
    {
      "cell_type": "code",
      "source": [
        "food = \"Mie ayam bakso\"\n",
        "print (\"dimas sedang memesan\", food)\n",
        "print (\"dimas sedang memesan \"+ food)\n",
        "print (\"dimas sedang memesan %s\" % (food))"
      ],
      "metadata": {
        "colab": {
          "base_uri": "https://localhost:8080/"
        },
        "id": "z6CP2MyEb_zy",
        "outputId": "c7dff5a0-cbfe-4091-83fe-81bad979f04d"
      },
      "execution_count": 4,
      "outputs": [
        {
          "output_type": "stream",
          "name": "stdout",
          "text": [
            "dimas sedang memesan Mie ayam bakso\n",
            "dimas sedang memesan Mie ayam bakso\n",
            "dimas sedang memesan Mie ayam bakso\n"
          ]
        }
      ]
    },
    {
      "cell_type": "code",
      "source": [
        "#Karakter Persen(%)\n",
        "total_porsi = 3\n",
        "price_per_porsi = 10500.55\n",
        "food = \"Mie Ayam\"\n",
        "kode_pesanan = 300\n",
        "\n",
        "#Integer (%d)\n",
        "print (\"dimas memesan sebanyak %d porsi\" % (total_porsi))\n",
        "#Float (%f)\n",
        "print (\"dimas membayar sebanyak %f\" % (price_per_porsi*3))\n",
        "#String (%s)\n",
        "print (\"dimas sedang memesan %s\" % (food))\n",
        "#Heksadesimal (%x)\n",
        "print (\"Kode pesanan dalam Hexa %x\" % (kode_pesanan))\n",
        "#Octal (%o)\n",
        "print (\"Kode pesanan dalam octal %o\" % (kode_pesanan))"
      ],
      "metadata": {
        "colab": {
          "base_uri": "https://localhost:8080/"
        },
        "id": "juymZImUcF-J",
        "outputId": "29fbfb51-17a3-490d-9936-aa0906cb6116"
      },
      "execution_count": 5,
      "outputs": [
        {
          "output_type": "stream",
          "name": "stdout",
          "text": [
            "dimas memesan sebanyak 3 porsi\n",
            "dimas membayar sebanyak 31501.650000\n",
            "dimas sedang memesan Mie Ayam\n",
            "Kode pesanan dalam Hexa 12c\n",
            "Kode pesanan dalam octal 454\n"
          ]
        }
      ]
    },
    {
      "cell_type": "code",
      "source": [
        "#Koneversi waktu\n",
        "total_detik = int(input(\"Jumlah detik? \"))\n",
        "jam = total_detik // 3600\n",
        "sisa_detik = total_detik % 3600\n",
        "menit = sisa_detik // 60\n",
        "detik = sisa_detik % 60\n",
        "print(f\"Hasil konversi: {jam} jam, {menit} menit, {detik} detik\")"
      ],
      "metadata": {
        "colab": {
          "base_uri": "https://localhost:8080/"
        },
        "id": "QHSzopqAccCi",
        "outputId": "b9522774-1fd2-4ee0-e006-7bc419db378b"
      },
      "execution_count": 6,
      "outputs": [
        {
          "output_type": "stream",
          "name": "stdout",
          "text": [
            "Jumlah detik? 258500\n",
            "Hasil konversi: 71 jam, 48 menit, 20 detik\n"
          ]
        }
      ]
    },
    {
      "cell_type": "code",
      "source": [
        "#Menghitung nilai akhir mahasiswa\n",
        "nilai_keaktifan = int(input(\"Masukkan nilai keaktifan: \"))\n",
        "nilai_tugas = int(input(\"Masukkan nilai tugas: \"))\n",
        "nilai_uts = int(input(\"Masukkan nilai UTS: \"))\n",
        "nilai_aas = int(input(\"Masukkan nilai AAS: \"))\n",
        "\n",
        "nilai_mahasiswa = (0.2 * nilai_keaktifan) + (0.4 * nilai_tugas) + (0.2 * nilai_uts) + (0.2 * nilai_aas)\n",
        "standar_kelulusan = int(input(\"Masukkan nilai standar kelulusan :\"))\n",
        "apakah_lulus = nilai_mahasiswa >= standar_kelulusan\n",
        "perlu_remedial = nilai_mahasiswa < standar_kelulusan\n",
        "\n",
        "print(f\"Nilai mahasiswa: {nilai_mahasiswa}\")\n",
        "print(f\"Standar kelulusan: {standar_kelulusan}\")\n",
        "print(f\"Apakah mahasiswa lulus? {apakah_lulus}\")\n",
        "print(f\"Perlu Remedial: {perlu_remedial}\")"
      ],
      "metadata": {
        "colab": {
          "base_uri": "https://localhost:8080/"
        },
        "id": "dM5oMSZHcrL3",
        "outputId": "a2f2cf23-7025-44d6-cea3-f1b6524d1a8c"
      },
      "execution_count": 7,
      "outputs": [
        {
          "output_type": "stream",
          "name": "stdout",
          "text": [
            "Masukkan nilai keaktifan: 87\n",
            "Masukkan nilai tugas: 93\n",
            "Masukkan nilai UTS: 100\n",
            "Masukkan nilai AAS: 95\n",
            "Masukkan nilai standar kelulusan :87\n",
            "Nilai mahasiswa: 93.60000000000001\n",
            "Standar kelulusan: 87\n",
            "Apakah mahasiswa lulus? True\n",
            "Perlu Remedial: False\n"
          ]
        }
      ]
    },
    {
      "cell_type": "code",
      "source": [
        "belanja = int(input(\"Total belanja? : Rp. \"))\n",
        "diskon = (0, 0.35 * belanja)[belanja > 1000000]\n",
        "total_harga = belanja-diskon\n",
        "print(\"Total harga setelah diskon = Rp.\", total_harga)"
      ],
      "metadata": {
        "colab": {
          "base_uri": "https://localhost:8080/"
        },
        "id": "_MwoKrgYc_uu",
        "outputId": "69609942-9f0f-4fee-e118-339640e5713a"
      },
      "execution_count": 8,
      "outputs": [
        {
          "output_type": "stream",
          "name": "stdout",
          "text": [
            "Total belanja? : Rp. 1582000\n",
            "Total harga setelah diskon = Rp. 1028300.0\n"
          ]
        }
      ]
    }
  ]
}