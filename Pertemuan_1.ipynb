{
  "nbformat": 4,
  "nbformat_minor": 0,
  "metadata": {
    "colab": {
      "provenance": [],
      "authorship_tag": "ABX9TyNq5m4Lz4YxKll6sUJ2aosf",
      "include_colab_link": true
    },
    "kernelspec": {
      "name": "python3",
      "display_name": "Python 3"
    },
    "language_info": {
      "name": "python"
    }
  },
  "cells": [
    {
      "cell_type": "markdown",
      "metadata": {
        "id": "view-in-github",
        "colab_type": "text"
      },
      "source": [
        "<a href=\"https://colab.research.google.com/github/Dimas270305/PEMOGRAMAN-DASAR/blob/main/Pertemuan_1.ipynb\" target=\"_parent\"><img src=\"https://colab.research.google.com/assets/colab-badge.svg\" alt=\"Open In Colab\"/></a>"
      ]
    },
    {
      "cell_type": "code",
      "execution_count": 1,
      "metadata": {
        "colab": {
          "base_uri": "https://localhost:8080/"
        },
        "id": "xEyfps2oS1i5",
        "outputId": "d00029e0-6b63-4562-f843-cab43c40eab8"
      },
      "outputs": [
        {
          "output_type": "stream",
          "name": "stdout",
          "text": [
            "Dimas\n",
            "20\n",
            "RPE\n",
            "3\n",
            "Pemograman Dasar\n",
            "False\n",
            "perumahan villa muka kuning\n",
            "batam\n",
            "smk negeri 5 batam\n"
          ]
        }
      ],
      "source": [
        "# Biodata Saya\n",
        "\n",
        "nama = \"Dimas\"\n",
        "umur = 20\n",
        "jurusan = \"RPE\"\n",
        "semester = 3\n",
        "matakuliah = \"Pemograman Dasar\"\n",
        "status_lulus = False\n",
        "alamat = \"perumahan villa muka kuning\"\n",
        "tempat_lahir = \"batam\"\n",
        "tamatan_sekolah = \"smk negeri 5 batam\"\n",
        "\n",
        "\n",
        "\n",
        "\n",
        "print (nama)\n",
        "print (umur)\n",
        "print (jurusan)\n",
        "print (semester)\n",
        "print (matakuliah)\n",
        "print (status_lulus)\n",
        "print (alamat)\n",
        "print (tempat_lahir)\n",
        "print (tamatan_sekolah)\n",
        "\n"
      ]
    },
    {
      "cell_type": "code",
      "source": [],
      "metadata": {
        "id": "PP6MDTjKv75P"
      },
      "execution_count": null,
      "outputs": []
    }
  ]
}