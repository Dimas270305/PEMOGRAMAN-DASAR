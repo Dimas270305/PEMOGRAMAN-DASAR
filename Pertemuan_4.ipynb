{
  "nbformat": 4,
  "nbformat_minor": 0,
  "metadata": {
    "colab": {
      "provenance": [],
      "authorship_tag": "ABX9TyPF5H5aGtKhS+M4xnj9qwUQ",
      "include_colab_link": true
    },
    "kernelspec": {
      "name": "python3",
      "display_name": "Python 3"
    },
    "language_info": {
      "name": "python"
    }
  },
  "cells": [
    {
      "cell_type": "markdown",
      "metadata": {
        "id": "view-in-github",
        "colab_type": "text"
      },
      "source": [
        "<a href=\"https://colab.research.google.com/github/Dimas270305/PEMOGRAMAN-DASAR/blob/main/Pertemuan_4.ipynb\" target=\"_parent\"><img src=\"https://colab.research.google.com/assets/colab-badge.svg\" alt=\"Open In Colab\"/></a>"
      ]
    },
    {
      "cell_type": "code",
      "execution_count": null,
      "metadata": {
        "colab": {
          "base_uri": "https://localhost:8080/"
        },
        "id": "k8NDEityao1x",
        "outputId": "c38f8620-f0f9-408e-bebd-a6e0ba0c6504"
      },
      "outputs": [
        {
          "output_type": "stream",
          "name": "stdout",
          "text": [
            "pengunjung adalah orang dewasa\n"
          ]
        }
      ],
      "source": [
        "# Variabel untuk menyimpan umur pengunjung\n",
        "umur: int = 20\n",
        "\n",
        "# Program hanya akan mencetak pesan jika umur di atas 17\n",
        "if umur >= 17:\n",
        "    print(\"pengunjung adalah orang dewasa\")\n"
      ]
    },
    {
      "cell_type": "code",
      "source": [
        "username = input(\"Masukan username:\")\n",
        "password = input(\"Masukan password:\")\n",
        "\n",
        "if username == \"admin\" and password == \"1234\":\n",
        "    print(\"login berhasil\")\n",
        "else:\n",
        "    print(\"login gagal\")\n"
      ],
      "metadata": {
        "colab": {
          "base_uri": "https://localhost:8080/"
        },
        "id": "0uP4eduEbwUC",
        "outputId": "8aefc93a-56ed-45f6-f948-9ebc2b4b6aba"
      },
      "execution_count": null,
      "outputs": [
        {
          "output_type": "stream",
          "name": "stdout",
          "text": [
            "Masukan username:admin\n",
            "Masukan password:1234\n",
            "login berhasil\n"
          ]
        }
      ]
    },
    {
      "cell_type": "code",
      "source": [
        "# program untuk mengecek bonus dan diskon\n",
        "total_belanja = input(\"total belanja: Rp \")\n",
        "# jumlah yang harus dibayar adalah berapa toyal belanjaannya\n",
        "# tapi kalau dapat diskon akan berkurang\n",
        "bayar = int(total_belanja)\n",
        "# jika dia belanja diatas 100rb maka berikan bonus diskon\n",
        "if int(total_belanja) > 100000:\n",
        "    print(\"selamat karena belanja > Rp. 100.000 anda mendapat voucher makan \")\n",
        "    print(\"dan diskon 5%\")\n",
        "# hitung diskon nya\n",
        "diskon = int(total_belanja) * 5/100 #5%\n",
        "bayar  = int(total_belanja) - diskon\n",
        "# cetak struk\n",
        "print(\"total yang harus dibayar: Rp %s\" % bayar)\n",
        "print(\"terima kasih sudah betrbelanja di toko kami\")\n",
        "print(\"kami tunggu kunjungan anda selanjutnya\")\n"
      ],
      "metadata": {
        "colab": {
          "base_uri": "https://localhost:8080/"
        },
        "id": "uP6nGfgLdI2W",
        "outputId": "32bfc711-aca1-4f89-bd87-91cc171142f1"
      },
      "execution_count": null,
      "outputs": [
        {
          "output_type": "stream",
          "name": "stdout",
          "text": [
            "total belanja: Rp 250000\n",
            "selamat karena belanja > Rp. 100.000 anda mendapat voucher makan \n",
            "dan diskon 5%\n",
            "total yang harus dibayar: Rp 237500.0\n",
            "terima kasih sudah betrbelanja di toko kami\n",
            "kami tunggu kunjungan anda selanjutnya\n"
          ]
        }
      ]
    },
    {
      "cell_type": "code",
      "source": [
        "# variable untuk memeriksa apakah ada notifikasi baru\n",
        "ada_notifikasi_baru: bool = True\n",
        "\n",
        "if ada_notifikasi_baru:\n",
        "    print(\"anda memiliki pesan baru!\")\n"
      ],
      "metadata": {
        "colab": {
          "base_uri": "https://localhost:8080/"
        },
        "id": "ZYuTU6WXgUK5",
        "outputId": "7108409b-fd73-4613-94f6-922b5187920f"
      },
      "execution_count": null,
      "outputs": [
        {
          "output_type": "stream",
          "name": "stdout",
          "text": [
            "anda memiliki pesan baru!\n"
          ]
        }
      ]
    },
    {
      "cell_type": "code",
      "source": [
        "umur = input(\"berapa umur kamu: \")\n",
        "if int(umur) >= 18:\n",
        "    print(\"kamu boleh membuat SIM\")\n",
        "else:\n",
        "  print(\"kamu belum boleh membuat SIM\")\n"
      ],
      "metadata": {
        "colab": {
          "base_uri": "https://localhost:8080/"
        },
        "id": "JBuKPBl9hB79",
        "outputId": "2b854d30-e19e-4f80-bc86-2dba7a54ef3d"
      },
      "execution_count": null,
      "outputs": [
        {
          "output_type": "stream",
          "name": "stdout",
          "text": [
            "berapa umur kamu: 20\n",
            "kamu boleh membuat SIM\n"
          ]
        }
      ]
    },
    {
      "cell_type": "code",
      "source": [
        "total_belanja = 300000\n",
        "\n",
        "if total_belanja > 200000:\n",
        "    diskon = total_belanja * 0.10\n",
        "    total_bayar = total_belanja - diskon\n",
        "    print(f\"anda mendapatkan diskon! total bayar: Rp {total_bayar}\")\n",
        "else:\n",
        "    print(f\"total bayar: Rp {total_belanja}\")"
      ],
      "metadata": {
        "colab": {
          "base_uri": "https://localhost:8080/"
        },
        "id": "XrJhTcdbhtII",
        "outputId": "0a58bb71-7dcb-4639-9b50-e35d22fd1bb8"
      },
      "execution_count": null,
      "outputs": [
        {
          "output_type": "stream",
          "name": "stdout",
          "text": [
            "anda mendapatkan diskon! total bayar: Rp 270000.0\n"
          ]
        }
      ]
    },
    {
      "cell_type": "code",
      "source": [
        "angka = int(input(\"masukan bilangan: \"))\n",
        "\n",
        "if angka % 2 ==0:\n",
        "    print(\"bilangan genap\")\n",
        "else:\n",
        "    print(\"bilangan ganjil\")\n"
      ],
      "metadata": {
        "colab": {
          "base_uri": "https://localhost:8080/"
        },
        "id": "ABNMwJYrjH5t",
        "outputId": "50083080-17c4-4f9b-b82b-a5eae3610550"
      },
      "execution_count": null,
      "outputs": [
        {
          "output_type": "stream",
          "name": "stdout",
          "text": [
            "masukan bilangan: 35\n",
            "bilangan ganjil\n"
          ]
        }
      ]
    },
    {
      "cell_type": "code",
      "source": [
        "nilai = 80\n",
        "if nilai >= 85:\n",
        "    print(\"luar biasa! Nilai A\")\n",
        "elif nilai >= 70:\n",
        "    print(\"Bagus! Nilai B\")\n",
        "elif nilai >= 60:\n",
        "    print(\"Cukup! Nilai C\")\n",
        "else:\n",
        "    print(\"Nilai kurang, perlu belajar lebih giat\")\n"
      ],
      "metadata": {
        "colab": {
          "base_uri": "https://localhost:8080/"
        },
        "id": "SVlFD7iNj0z4",
        "outputId": "bb46873f-ef61-4405-ebda-4533e08d809b"
      },
      "execution_count": null,
      "outputs": [
        {
          "output_type": "stream",
          "name": "stdout",
          "text": [
            "Bagus! Nilai B\n"
          ]
        }
      ]
    },
    {
      "cell_type": "code",
      "source": [
        "# Menentukan jenis diskon berdasarkan hari\n",
        "hari: str = \"sabtu\"\n",
        "\n",
        "if hari == \"sabtu\" or hari == \"minggu\":\n",
        "    diskon: float =0.20 #diskon 20%\n",
        "    print(f\"Selamat! Anda mendapatkan diskon akhir pekan sebesar {diskon*100}%.\")\n",
        "elif hari == \"jumat\":\n",
        "    diskon: float = 0.15 #diskon 15%\n",
        "    print(f\"Diskon spesial jumat! Anda mendapatkan potongan {diskon*100}%. \")\n",
        "else:\n",
        "    diskon: float = 0.05 #diskon 5%\n",
        "    print(f\"anda mendapatkan diskon hari biasa sebesar {diskon*100}%. \")"
      ],
      "metadata": {
        "colab": {
          "base_uri": "https://localhost:8080/"
        },
        "id": "cQOnl-vUk5tj",
        "outputId": "ca48eb9c-6e15-4cd4-9bd4-c9ebd66b15c5"
      },
      "execution_count": null,
      "outputs": [
        {
          "output_type": "stream",
          "name": "stdout",
          "text": [
            "Selamat! Anda mendapatkan diskon akhir pekan sebesar 20.0%.\n"
          ]
        }
      ]
    },
    {
      "cell_type": "code",
      "source": [
        "rupiah = int(input(\"Masukkan jumlah uang (Rp):\"))\n",
        "print(\"1. Dollar (USD)\")\n",
        "print(\"2. Euro (EUR)\")\n",
        "print(\"3. yen (JPY)\")\n",
        "pilih = int(input(\"pilih konversi (1/2/3):\"))\n",
        "\n",
        "if pilih == 1:\n",
        "    print(\"Dalam Dollar:\", rupiah / 15000)\n",
        "elif pilih == 2:\n",
        "    print(\"Dalam euro:\", rupiah / 16000)\n",
        "elif pilih == 3:\n",
        "    print(\"Dalam yen;\", rupiah / 120)\n",
        "else:\n",
        "    print(\"pilihan tidak valid\")\n"
      ],
      "metadata": {
        "id": "k4TrXcYOnP6J",
        "colab": {
          "base_uri": "https://localhost:8080/"
        },
        "outputId": "bfbf2640-fa75-432d-9e22-be7035ca5c5f"
      },
      "execution_count": 1,
      "outputs": [
        {
          "output_type": "stream",
          "name": "stdout",
          "text": [
            "Masukkan jumlah uang (Rp):120000\n",
            "1. Dollar (USD)\n",
            "2. Euro (EUR)\n",
            "3. yen (JPY)\n",
            "pilih konversi (1/2/3):3\n",
            "Dalam yen; 1000.0\n"
          ]
        }
      ]
    }
  ]
}