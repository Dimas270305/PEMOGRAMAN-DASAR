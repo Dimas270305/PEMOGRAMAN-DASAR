{
  "nbformat": 4,
  "nbformat_minor": 0,
  "metadata": {
    "colab": {
      "provenance": [],
      "authorship_tag": "ABX9TyMUzugnpMPPu6dx5Okd1YVj",
      "include_colab_link": true
    },
    "kernelspec": {
      "name": "python3",
      "display_name": "Python 3"
    },
    "language_info": {
      "name": "python"
    }
  },
  "cells": [
    {
      "cell_type": "markdown",
      "metadata": {
        "id": "view-in-github",
        "colab_type": "text"
      },
      "source": [
        "<a href=\"https://colab.research.google.com/github/Dimas270305/PEMOGRAMAN-DASAR/blob/main/Pertemuan_5.ipynb\" target=\"_parent\"><img src=\"https://colab.research.google.com/assets/colab-badge.svg\" alt=\"Open In Colab\"/></a>"
      ]
    },
    {
      "cell_type": "code",
      "execution_count": 1,
      "metadata": {
        "colab": {
          "base_uri": "https://localhost:8080/"
        },
        "id": "lEAiLoM8Up5q",
        "outputId": "3e4aceda-5c74-4d91-cdf9-347846f3598a"
      },
      "outputs": [
        {
          "output_type": "stream",
          "name": "stdout",
          "text": [
            "-- Bilangan Genap 1 hingga 50 --\n",
            "2\n",
            "4\n",
            "6\n",
            "8\n",
            "10\n",
            "12\n",
            "14\n",
            "16\n",
            "18\n",
            "20\n",
            "22\n",
            "24\n",
            "26\n",
            "28\n",
            "30\n",
            "32\n",
            "34\n",
            "36\n",
            "38\n",
            "40\n",
            "42\n",
            "44\n",
            "46\n",
            "48\n",
            "50\n"
          ]
        }
      ],
      "source": [
        "print(\"-- Bilangan Genap 1 hingga 50 --\")\n",
        "for angka in range(2, 51, 2):\n",
        "    print(angka)\n"
      ]
    },
    {
      "cell_type": "code",
      "source": [
        "print(\"-- Soal 2 --\")\n",
        "\n",
        "# Ganti dengan NIM kamu sendiri\n",
        "kode_berhenti = 4232411047\n",
        "\n",
        "input_pengguna = 0  # Inisialisasi awal\n",
        "\n",
        "while input_pengguna != kode_berhenti:\n",
        "    try:\n",
        "        input_pengguna = int(input(\"Masukkan angka (atau NIM untuk berhenti): \"))\n",
        "    except ValueError:\n",
        "        print(\"Input tidak valid. Harap masukkan angka.\")\n",
        "\n",
        "print(f\"Perulangan telah dihentikan karena memasukkan NIM ({kode_berhenti}).\")"
      ],
      "metadata": {
        "colab": {
          "base_uri": "https://localhost:8080/"
        },
        "id": "0AbIqV9UYmR4",
        "outputId": "da00cc5d-a19d-478e-be11-6072d8a73965"
      },
      "execution_count": 3,
      "outputs": [
        {
          "output_type": "stream",
          "name": "stdout",
          "text": [
            "-- Soal 2 --\n",
            "Masukkan angka (atau NIM untuk berhenti): 4232411047\n",
            "Perulangan telah dihentikan karena memasukkan NIM (4232411047).\n"
          ]
        }
      ]
    },
    {
      "cell_type": "code",
      "source": [
        "print(\"-- Soal 3 --\")\n",
        "\n",
        "# Daftar harga barang minimal 10 item\n",
        "harga_barang = [15000, 25000, 10000, 5000, 12000, 30000, 18000, 22000, 27000, 8000]\n",
        "\n",
        "total_belanja = 0\n",
        "\n",
        "# Menjumlahkan seluruh harga barang\n",
        "for harga in harga_barang:\n",
        "    total_belanja += harga\n",
        "\n",
        "print(\"Total biaya belanja adalah:\", total_belanja)\n"
      ],
      "metadata": {
        "colab": {
          "base_uri": "https://localhost:8080/"
        },
        "id": "v5EXV1D7ZSOm",
        "outputId": "c9b28cd8-207d-4374-f5da-7bf0139605f9"
      },
      "execution_count": 4,
      "outputs": [
        {
          "output_type": "stream",
          "name": "stdout",
          "text": [
            "-- Soal 3 --\n",
            "Total biaya belanja adalah: 172000\n"
          ]
        }
      ]
    },
    {
      "cell_type": "code",
      "source": [
        "print(\"-- Soal 4 --\")\n",
        "\n",
        "percobaan_maksimal = 3\n",
        "percobaan_saat_ini = 1\n",
        "password_benar = \"dimas2703\"  # contoh password benar\n",
        "\n",
        "while percobaan_saat_ini <= percobaan_maksimal:\n",
        "    print(f\"Percobaan ke-{percobaan_saat_ini}...\")\n",
        "    password = input(\"Masukkan password: \")\n",
        "\n",
        "    if password == password_benar:\n",
        "        print(\"Akses diterima.\")\n",
        "        break  # keluar dari loop jika benar\n",
        "    else:\n",
        "        print(\"Password salah.\")\n",
        "        percobaan_saat_ini += 1\n",
        "\n",
        "if percobaan_saat_ini > percobaan_maksimal:\n",
        "    print(\"Kesempatan habis.\")\n"
      ],
      "metadata": {
        "colab": {
          "base_uri": "https://localhost:8080/"
        },
        "id": "yOxXpWo3ZdZt",
        "outputId": "0579b4b8-0611-4bf2-b1e0-442e13ba6394"
      },
      "execution_count": 6,
      "outputs": [
        {
          "output_type": "stream",
          "name": "stdout",
          "text": [
            "-- Soal 4 --\n",
            "Percobaan ke-1...\n",
            "Masukkan password: pyton123\n",
            "Password salah.\n",
            "Percobaan ke-2...\n",
            "Masukkan password: dimas2703\n",
            "Akses diterima.\n"
          ]
        }
      ]
    },
    {
      "cell_type": "code",
      "source": [
        "print(\"-- Soal 5 --\")\n",
        "\n",
        "nama_proyek = \"Politeknik Negeri Batam\"\n",
        "hasil_output = \"\"\n",
        "\n",
        "for karakter in nama_proyek:\n",
        "    hasil_output += karakter + \"-\"\n",
        "\n",
        "print(hasil_output)\n"
      ],
      "metadata": {
        "colab": {
          "base_uri": "https://localhost:8080/"
        },
        "id": "e5Vdj_HHZyxF",
        "outputId": "49df1434-052f-44f8-d757-cb83d971b137"
      },
      "execution_count": 7,
      "outputs": [
        {
          "output_type": "stream",
          "name": "stdout",
          "text": [
            "-- Soal 5 --\n",
            "P-o-l-i-t-e-k-n-i-k- -N-e-g-e-r-i- -B-a-t-a-m-\n"
          ]
        }
      ]
    },
    {
      "cell_type": "code",
      "source": [
        "print(\"-- Soal 6 --\")\n",
        "# Countdown dari 5 ke 1\n",
        "for i in range(5, 0, -1):\n",
        "    print(i)\n"
      ],
      "metadata": {
        "colab": {
          "base_uri": "https://localhost:8080/"
        },
        "id": "7zq2xHUGaABP",
        "outputId": "71aaf1c5-e98c-45e7-bb9f-c12ba0d1b9cd"
      },
      "execution_count": 8,
      "outputs": [
        {
          "output_type": "stream",
          "name": "stdout",
          "text": [
            "-- Soal 6 --\n",
            "5\n",
            "4\n",
            "3\n",
            "2\n",
            "1\n"
          ]
        }
      ]
    },
    {
      "cell_type": "code",
      "source": [
        "print(\"-- Soal 7 (Modifikasi) --\")\n",
        "kelurahan = [\"Baloi Permai\", \"Tanjung Uma\", \"Sadai\", \"Bengkong Indah\", \"Batam Centre\"]\n",
        "\n",
        "for i, nama in enumerate(kelurahan):\n",
        "    print(f\"Kelurahan ke-{i + 1}: {nama}\")\n"
      ],
      "metadata": {
        "colab": {
          "base_uri": "https://localhost:8080/"
        },
        "id": "XLB8jqJ9aGS2",
        "outputId": "39d317fd-1137-4ed1-f2b4-145ae119743c"
      },
      "execution_count": 9,
      "outputs": [
        {
          "output_type": "stream",
          "name": "stdout",
          "text": [
            "-- Soal 7 (Modifikasi) --\n",
            "Kelurahan ke-1: Baloi Permai\n",
            "Kelurahan ke-2: Tanjung Uma\n",
            "Kelurahan ke-3: Sadai\n",
            "Kelurahan ke-4: Bengkong Indah\n",
            "Kelurahan ke-5: Batam Centre\n"
          ]
        }
      ]
    },
    {
      "cell_type": "code",
      "source": [
        "print(\"--- Soal 8 (Modifikasi) ---\")\n",
        "data_angka = [10, 20, 30, 0, 50, 60]\n",
        "\n",
        "for angka in data_angka:\n",
        "    if angka == 0:\n",
        "        break\n",
        "    print(angka)\n",
        "\n",
        "print(\"Program berhenti karena angka 0 ditemukan.\")\n"
      ],
      "metadata": {
        "colab": {
          "base_uri": "https://localhost:8080/"
        },
        "id": "378T423baVmM",
        "outputId": "1cc55330-2df5-4985-f328-bbc91eae8b40"
      },
      "execution_count": 10,
      "outputs": [
        {
          "output_type": "stream",
          "name": "stdout",
          "text": [
            "--- Soal 8 (Modifikasi) ---\n",
            "10\n",
            "20\n",
            "30\n",
            "Program berhenti karena angka 0 ditemukan.\n"
          ]
        }
      ]
    },
    {
      "cell_type": "code",
      "source": [
        "print(\"--- Soal 9 ---\")\n",
        "total = 0\n",
        "bilangan = 1\n",
        "batas = 20\n",
        "\n",
        "while total <= batas:\n",
        "    total += bilangan\n",
        "    bilangan += 1\n",
        "\n",
        "print(\"Total terakhir:\", total)\n"
      ],
      "metadata": {
        "colab": {
          "base_uri": "https://localhost:8080/"
        },
        "id": "mIS4g2y9ac8E",
        "outputId": "542af774-4c8a-4c6e-f46e-05a289485918"
      },
      "execution_count": 11,
      "outputs": [
        {
          "output_type": "stream",
          "name": "stdout",
          "text": [
            "--- Soal 9 ---\n",
            "Total terakhir: 21\n"
          ]
        }
      ]
    },
    {
      "cell_type": "code",
      "source": [
        "print(\"--- Soal 10 ---\")\n",
        "jumlah_baris = 3\n",
        "\n",
        "for baris in range(jumlah_baris):\n",
        "    baris_teks = \"\"\n",
        "    for kolom in range(1):  # perulangan dalam\n",
        "        baris_teks += \"Politeknik \"\n",
        "    print(baris_teks)\n"
      ],
      "metadata": {
        "colab": {
          "base_uri": "https://localhost:8080/"
        },
        "id": "HJgzTN_vah2s",
        "outputId": "1afa8b29-aaf8-4498-b62d-d5f8b18fe3f6"
      },
      "execution_count": 13,
      "outputs": [
        {
          "output_type": "stream",
          "name": "stdout",
          "text": [
            "--- Soal 10 ---\n",
            "Politeknik \n",
            "Politeknik \n",
            "Politeknik \n"
          ]
        }
      ]
    }
  ]
}